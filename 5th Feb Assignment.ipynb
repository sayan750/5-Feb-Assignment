{
 "cells": [
  {
   "cell_type": "markdown",
   "id": "9e69ffc6",
   "metadata": {},
   "source": [
    "### Q1. \n",
    "\n",
    "**In Object-Oriented Programming (OOP), a class is a blueprint or template that defines the attributes and behavior of a particular type of object. An object, on the other hand, is an instance of a class that has its own unique set of values for its attributes and can perform actions defined by its class.**"
   ]
  },
  {
   "cell_type": "code",
   "execution_count": 4,
   "id": "cdb5221a",
   "metadata": {},
   "outputs": [],
   "source": [
    "class name():\n",
    "    \n",
    "    def welcome(self):\n",
    "        print(\"Welcome to Visit us\")"
   ]
  },
  {
   "cell_type": "code",
   "execution_count": 5,
   "id": "4e71fc3c",
   "metadata": {},
   "outputs": [],
   "source": [
    "Sayan = name()"
   ]
  },
  {
   "cell_type": "code",
   "execution_count": 7,
   "id": "96ae3710",
   "metadata": {},
   "outputs": [
    {
     "name": "stdout",
     "output_type": "stream",
     "text": [
      "Welcome to Visit us\n"
     ]
    }
   ],
   "source": [
    "Sayan.welcome()"
   ]
  },
  {
   "cell_type": "markdown",
   "id": "335b50bd",
   "metadata": {},
   "source": [
    "### Q2.\n",
    "\n",
    "**The four pillars of OOPs are: Encapsulation, Abstraction, Inheritance, Polymorphism.** "
   ]
  },
  {
   "cell_type": "markdown",
   "id": "71b1b886",
   "metadata": {},
   "source": [
    "### Q3. \n",
    "\n",
    "**In Python, the __init__() function is a special method used to initialize the attributes of a newly created object. It is called automatically when an object is instantiated from a class and is used to set the initial values of the object's attributes. The __init__() method takes the self parameter, which refers to the object being created, and any additional parameters that need to be initialized. Inside the method, the attributes of the object are assigned initial values using the self parameter and the parameter values passed to the method.**"
   ]
  },
  {
   "cell_type": "code",
   "execution_count": 1,
   "id": "33e16348",
   "metadata": {},
   "outputs": [],
   "source": [
    "class names():\n",
    "    \n",
    "    def __init__(self ,ph_no, email_id, stu_id):\n",
    "        \n",
    "        self.ph_no = ph_no\n",
    "        self.email_id = email_id\n",
    "        self.stu_id = stu_id\n",
    "        \n",
    "    def student_details(self):\n",
    "        return self.ph_no, self.email_id, self.stu_id"
   ]
  },
  {
   "cell_type": "code",
   "execution_count": 2,
   "id": "b980d8bf",
   "metadata": {},
   "outputs": [],
   "source": [
    "Sayan = names(9775379464, \"sayan9611@gmail.com\", 202)"
   ]
  },
  {
   "cell_type": "code",
   "execution_count": 3,
   "id": "1e5d70a0",
   "metadata": {},
   "outputs": [
    {
     "data": {
      "text/plain": [
       "(9775379464, 'sayan9611@gmail.com', 202)"
      ]
     },
     "execution_count": 3,
     "metadata": {},
     "output_type": "execute_result"
    }
   ],
   "source": [
    "Sayan.student_details()"
   ]
  },
  {
   "cell_type": "markdown",
   "id": "b9797aab",
   "metadata": {},
   "source": [
    "### Q4.\n",
    "\n",
    "**In Object-Oriented Programming (OOP), self is used to refer to the instance of a class. It is a convention used in Python and other programming languages to refer to the object that is currently being operated on.**"
   ]
  },
  {
   "cell_type": "markdown",
   "id": "d38f341f",
   "metadata": {},
   "source": [
    "### Q5.\n",
    "\n",
    "**In object-oriented programming, inheritance is a mechanism that allows a new class (derived class) to be based on an existing class (base class or parent class), inheriting its attributes (fields) and methods, and optionally adding new attributes or methods or overriding existing ones. Inheritance promotes code reuse and helps to create a hierarchy of related classes.**\n",
    "\n",
    "**There are four types of inheritance. Those are discuss in below**"
   ]
  },
  {
   "cell_type": "code",
   "execution_count": 17,
   "id": "c128957c",
   "metadata": {},
   "outputs": [],
   "source": [
    "## Single Innheritance\n",
    "\n",
    "class Person:\n",
    "    \n",
    "    def __init__(self, name, age):\n",
    "        self.name = name\n",
    "        self.age = age\n",
    "\n",
    "    def introduce(self):\n",
    "        return self.name, self.age\n",
    "\n",
    "class Student(Person):\n",
    "    \n",
    "    def __init__(self, name, age, major):\n",
    "        self.name = name\n",
    "        self.age = age\n",
    "        self.major = major\n",
    "\n",
    "    def introduce(self):\n",
    "        return self.name, self.age, self.major"
   ]
  },
  {
   "cell_type": "code",
   "execution_count": 21,
   "id": "d72ea279",
   "metadata": {},
   "outputs": [
    {
     "data": {
      "text/plain": [
       "('Alice', 30)"
      ]
     },
     "execution_count": 21,
     "metadata": {},
     "output_type": "execute_result"
    }
   ],
   "source": [
    "person1 = Person(\"Alice\", 30)\n",
    "person1.introduce()"
   ]
  },
  {
   "cell_type": "code",
   "execution_count": 22,
   "id": "e6032adc",
   "metadata": {},
   "outputs": [
    {
     "data": {
      "text/plain": [
       "('Bob', 20, 'Computer Science')"
      ]
     },
     "execution_count": 22,
     "metadata": {},
     "output_type": "execute_result"
    }
   ],
   "source": [
    "student1 = Student(\"Bob\", 20, \"Computer Science\")\n",
    "student1.introduce()"
   ]
  },
  {
   "cell_type": "code",
   "execution_count": 23,
   "id": "ee4e23bd",
   "metadata": {},
   "outputs": [],
   "source": [
    "## Multiple Inheritance\n",
    "\n",
    "class Animal:\n",
    "    def __init__(self, name):\n",
    "        self.name = name\n",
    "\n",
    "    def speak(self):\n",
    "        pass\n",
    "\n",
    "class Pet:\n",
    "    \n",
    "    def play(self):\n",
    "        pass\n",
    "\n",
    "class Dog(Animal, Pet):\n",
    "    \n",
    "    def speak(self):\n",
    "        return \"Woof!\""
   ]
  },
  {
   "cell_type": "code",
   "execution_count": 25,
   "id": "44f6e5a7",
   "metadata": {},
   "outputs": [],
   "source": [
    "my_dog = Dog(\"Rufus\")"
   ]
  },
  {
   "cell_type": "code",
   "execution_count": 31,
   "id": "470af941",
   "metadata": {},
   "outputs": [
    {
     "name": "stdout",
     "output_type": "stream",
     "text": [
      "Rufus\n",
      "Woof!\n"
     ]
    }
   ],
   "source": [
    "print(my_dog.name)\n",
    "print(my_dog.speak())\n",
    "my_dog.play()"
   ]
  },
  {
   "cell_type": "code",
   "execution_count": 36,
   "id": "4adf0755",
   "metadata": {},
   "outputs": [],
   "source": [
    "## Hierarchical Inheritance\n",
    "\n",
    "class Animal:\n",
    "    def __init__(self, name):\n",
    "        self.name = name\n",
    "\n",
    "    def speak(self):\n",
    "        pass\n",
    "\n",
    "class Dog(Animal):\n",
    "    def speak(self):\n",
    "        return \"Woof!\"\n",
    "\n",
    "class Cat(Animal):\n",
    "    def speak(self):\n",
    "        return \"Meow!\""
   ]
  },
  {
   "cell_type": "code",
   "execution_count": 37,
   "id": "4c0d4058",
   "metadata": {},
   "outputs": [
    {
     "name": "stdout",
     "output_type": "stream",
     "text": [
      "Rufus\n",
      "Woof!\n",
      "Garfield\n",
      "Meow!\n"
     ]
    }
   ],
   "source": [
    "my_dog = Dog(\"Rufus\")\n",
    "print(my_dog.name)\n",
    "print(my_dog.speak())\n",
    "\n",
    "my_cat = Cat(\"Garfield\")\n",
    "print(my_cat.name)\n",
    "print(my_cat.speak())"
   ]
  },
  {
   "cell_type": "code",
   "execution_count": 38,
   "id": "2236d9cd",
   "metadata": {},
   "outputs": [],
   "source": [
    "## Hybrid Inheritance\n",
    "\n",
    "class Animal:\n",
    "    def __init__(self, name):\n",
    "        self.name = name\n",
    "\n",
    "    def speak(self):\n",
    "        pass\n",
    "\n",
    "class Mammal(Animal):\n",
    "    def feed_young_with_milk(self):\n",
    "        pass\n",
    "\n",
    "class Bird(Animal):\n",
    "    def lay_eggs(self):\n",
    "        pass\n",
    "\n",
    "class Platypus(Mammal, Bird):\n",
    "    def __init__(self, name):\n",
    "        Animal.__init__(self, name)\n",
    "\n",
    "    def lay_eggs(self):\n",
    "        return \"Laying eggs like a bird\"\n",
    "\n",
    "    def feed_young_with_milk(self):\n",
    "        return \"Feeding young with milk like a mammal\""
   ]
  },
  {
   "cell_type": "code",
   "execution_count": 39,
   "id": "6e41f87d",
   "metadata": {},
   "outputs": [
    {
     "name": "stdout",
     "output_type": "stream",
     "text": [
      "Perry\n",
      "Laying eggs like a bird\n",
      "Feeding young with milk like a mammal\n"
     ]
    }
   ],
   "source": [
    "my_platypus = Platypus(\"Perry\")\n",
    "print(my_platypus.name)\n",
    "print(my_platypus.lay_eggs())\n",
    "print(my_platypus.feed_young_with_milk())"
   ]
  },
  {
   "cell_type": "code",
   "execution_count": null,
   "id": "bef707fe",
   "metadata": {},
   "outputs": [],
   "source": []
  },
  {
   "cell_type": "code",
   "execution_count": null,
   "id": "4a5333bb",
   "metadata": {},
   "outputs": [],
   "source": []
  }
 ],
 "metadata": {
  "kernelspec": {
   "display_name": "Python 3 (ipykernel)",
   "language": "python",
   "name": "python3"
  },
  "language_info": {
   "codemirror_mode": {
    "name": "ipython",
    "version": 3
   },
   "file_extension": ".py",
   "mimetype": "text/x-python",
   "name": "python",
   "nbconvert_exporter": "python",
   "pygments_lexer": "ipython3",
   "version": "3.9.12"
  }
 },
 "nbformat": 4,
 "nbformat_minor": 5
}
